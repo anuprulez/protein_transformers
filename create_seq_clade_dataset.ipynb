{
 "cells": [
  {
   "cell_type": "code",
   "execution_count": 4,
   "id": "17e23cfb-aa5a-4795-8b25-0f3a8518c072",
   "metadata": {},
   "outputs": [],
   "source": [
    "import pandas as pd"
   ]
  },
  {
   "cell_type": "code",
   "execution_count": 5,
   "id": "4c91d7e2-a8cd-486f-9d4d-5b4671a10d34",
   "metadata": {},
   "outputs": [
    {
     "name": "stderr",
     "output_type": "stream",
     "text": [
      "<ipython-input-5-3aafc257ad13>:1: DtypeWarning: Columns (25,48,52,54,58,62) have mixed types. Specify dtype option on import or set low_memory=False.\n",
      "  df_clade_assginemt = pd.read_csv(\"data/genbank_clade_assignment.tabular\", sep=\"\\t\")\n"
     ]
    },
    {
     "data": {
      "text/plain": [
       "0         ON170431.1 |Severe acute respiratory syndrome ...\n",
       "1         ON170647.1 |Severe acute respiratory syndrome ...\n",
       "2         ON170534.1 |Severe acute respiratory syndrome ...\n",
       "3         ON170531.1 |Severe acute respiratory syndrome ...\n",
       "4         ON170620.1 |Severe acute respiratory syndrome ...\n",
       "                                ...                        \n",
       "743627    MN994468.1 |Severe acute respiratory syndrome ...\n",
       "743628    MN988713.1 |Severe acute respiratory syndrome ...\n",
       "743629    MN997409.1 |Severe acute respiratory syndrome ...\n",
       "743630    MN975262.1 |Severe acute respiratory syndrome ...\n",
       "743631    MN908947.3 |Severe acute respiratory syndrome ...\n",
       "Name: seqName, Length: 743632, dtype: object"
      ]
     },
     "execution_count": 5,
     "metadata": {},
     "output_type": "execute_result"
    }
   ],
   "source": [
    "df_clade_assginemt = pd.read_csv(\"data/genbank_clade_assignment.tabular\", sep=\"\\t\")\n",
    "df_clade_assginemt[\"seqName\"]"
   ]
  },
  {
   "cell_type": "code",
   "execution_count": 19,
   "id": "da2323a5-3d50-4436-bd61-9c797cbc948d",
   "metadata": {},
   "outputs": [
    {
     "name": "stdout",
     "output_type": "stream",
     "text": [
      "743327\n"
     ]
    }
   ],
   "source": [
    "assigned_acc_names = list()\n",
    "all_seq_names = df_clade_assginemt[\"seqName\"].tolist()\n",
    "for i_seq, seq_name in enumerate(all_seq_names):\n",
    "    try:\n",
    "        #print(seq_name.split(\"|\")[1].split(\"/\")[3])\n",
    "        acc_name = seq_name.split(\"|\")[1].split(\"/\")[3] #seq_name.split(\"|\")[0]\n",
    "        assigned_acc_names.append(acc_name.strip())\n",
    "    except:\n",
    "        continue\n",
    "print(len(assigned_acc_names))"
   ]
  },
  {
   "cell_type": "code",
   "execution_count": 10,
   "id": "ee8d6f70-2352-43ff-839e-17c8a6eb2481",
   "metadata": {},
   "outputs": [],
   "source": [
    "assigned_acc_names = sorted(assigned_acc_names)"
   ]
  },
  {
   "cell_type": "code",
   "execution_count": null,
   "id": "f6907cab-838c-4b59-b450-fa4ca3905c58",
   "metadata": {},
   "outputs": [],
   "source": []
  },
  {
   "cell_type": "code",
   "execution_count": 35,
   "id": "82dac80c-b058-4eb7-928f-ca9f1002099e",
   "metadata": {},
   "outputs": [],
   "source": [
    "from Bio import SeqIO\n",
    "\n",
    "\n",
    "fasta_sequences = SeqIO.parse(\"data/spike_protein_genbank_apr_22.fasta\", \"fasta\")\n",
    "\n",
    "\n",
    "final_acc_name = list()\n",
    "final_seqs = list()\n",
    "final_clades = list()\n",
    "\n",
    "for i, fasta in enumerate(fasta_sequences):\n",
    "    sp_name = fasta.id\n",
    "    sp_name = fasta.description.split(\"|\")[6]\n",
    "    name, seq = fasta.id.split(\" \")[0], str(fasta.seq)\n",
    "    if sp_name in assigned_acc_names:\n",
    "        pos = assigned_acc_names.index(sp_name)\n",
    "        final_acc_name.append(sp_name)\n",
    "        final_seqs.append(seq)\n",
    "        final_clades.append(df_clade_assginemt.iloc[pos][\"clade\"])\n",
    "    if i == 1000:\n",
    "        break\n",
    "\n",
    "combined_df = pd.DataFrame(zip(final_acc_name, final_seqs, final_clades), columns=[\"GenbankAccName\", \"Sequence\", \"Clade\"])"
   ]
  },
  {
   "cell_type": "code",
   "execution_count": 36,
   "id": "57147f7b-297c-430a-94f4-7066a5b4d0ce",
   "metadata": {},
   "outputs": [
    {
     "data": {
      "text/html": [
       "<div>\n",
       "<style scoped>\n",
       "    .dataframe tbody tr th:only-of-type {\n",
       "        vertical-align: middle;\n",
       "    }\n",
       "\n",
       "    .dataframe tbody tr th {\n",
       "        vertical-align: top;\n",
       "    }\n",
       "\n",
       "    .dataframe thead th {\n",
       "        text-align: right;\n",
       "    }\n",
       "</style>\n",
       "<table border=\"1\" class=\"dataframe\">\n",
       "  <thead>\n",
       "    <tr style=\"text-align: right;\">\n",
       "      <th></th>\n",
       "      <th>GenbankAccName</th>\n",
       "      <th>Sequence</th>\n",
       "      <th>Clade</th>\n",
       "    </tr>\n",
       "  </thead>\n",
       "  <tbody>\n",
       "    <tr>\n",
       "      <th>0</th>\n",
       "      <td>NV-NSPHL-399280</td>\n",
       "      <td>MFVFLVLLPLVSSQCVNLRTRTQLPPAYTNSFTRGVYYPDKVFRSS...</td>\n",
       "      <td>21J (Delta)</td>\n",
       "    </tr>\n",
       "    <tr>\n",
       "      <th>1</th>\n",
       "      <td>NV-NSPHL-469808</td>\n",
       "      <td>MFVFLVLLPLVSSQCVNLRTRTQLPPAYTNSFTRGVYYPDKVFRSS...</td>\n",
       "      <td>21I (Delta)</td>\n",
       "    </tr>\n",
       "    <tr>\n",
       "      <th>2</th>\n",
       "      <td>NV-NSPHL-470078</td>\n",
       "      <td>MFVFLVLLPLVSSQCVNLRTRTQLPPAYTNSFTRGVYYPDKVFRSS...</td>\n",
       "      <td>21J (Delta)</td>\n",
       "    </tr>\n",
       "    <tr>\n",
       "      <th>3</th>\n",
       "      <td>NV-NSPHL-471152</td>\n",
       "      <td>MFVFLVLLPLVSSQCVNLRTRTQLPPAYTNSFTRGVYYPDKVFRSS...</td>\n",
       "      <td>21J (Delta)</td>\n",
       "    </tr>\n",
       "    <tr>\n",
       "      <th>4</th>\n",
       "      <td>NV-NSPHL-471881</td>\n",
       "      <td>MFVFLVLLPLVSSQCVNLRTRTQLPPAYTNSFTRGVYYPDKVFRSS...</td>\n",
       "      <td>21J (Delta)</td>\n",
       "    </tr>\n",
       "    <tr>\n",
       "      <th>...</th>\n",
       "      <td>...</td>\n",
       "      <td>...</td>\n",
       "      <td>...</td>\n",
       "    </tr>\n",
       "    <tr>\n",
       "      <th>996</th>\n",
       "      <td>FL-CDC-LC0567256</td>\n",
       "      <td>MFVFLVLLPLVSSQCVNLITRTQSYTNSFTRGVYYPDKVFRSSVLH...</td>\n",
       "      <td>21L (Omicron)</td>\n",
       "    </tr>\n",
       "    <tr>\n",
       "      <th>997</th>\n",
       "      <td>WI-CDC-LC0566831</td>\n",
       "      <td>MFVFLVLLPLVSSQCVNLITRTQSYTNSFTRGVYYPDKVFRSSVLH...</td>\n",
       "      <td>21L (Omicron)</td>\n",
       "    </tr>\n",
       "    <tr>\n",
       "      <th>998</th>\n",
       "      <td>NY-CDC-LC0566830</td>\n",
       "      <td>MFVFLVLLPLVSSQCVNLITRTQSYTNSFTRGVYYPDKVFRSSVLH...</td>\n",
       "      <td>21L (Omicron)</td>\n",
       "    </tr>\n",
       "    <tr>\n",
       "      <th>999</th>\n",
       "      <td>NY-CDC-LC0566835</td>\n",
       "      <td>MFVFLVLLPLVSSQCVNLITRTQSYTNSFTRGVYYPDKVFRSSVLH...</td>\n",
       "      <td>21L (Omicron)</td>\n",
       "    </tr>\n",
       "    <tr>\n",
       "      <th>1000</th>\n",
       "      <td>NY-CDC-LC0566829</td>\n",
       "      <td>MFVFLVLLPLVSSQCVNLITRTQSYTNSFTRGVYYPDKVFRSSVLH...</td>\n",
       "      <td>21L (Omicron)</td>\n",
       "    </tr>\n",
       "  </tbody>\n",
       "</table>\n",
       "<p>1001 rows × 3 columns</p>\n",
       "</div>"
      ],
      "text/plain": [
       "        GenbankAccName                                           Sequence  \\\n",
       "0      NV-NSPHL-399280  MFVFLVLLPLVSSQCVNLRTRTQLPPAYTNSFTRGVYYPDKVFRSS...   \n",
       "1      NV-NSPHL-469808  MFVFLVLLPLVSSQCVNLRTRTQLPPAYTNSFTRGVYYPDKVFRSS...   \n",
       "2      NV-NSPHL-470078  MFVFLVLLPLVSSQCVNLRTRTQLPPAYTNSFTRGVYYPDKVFRSS...   \n",
       "3      NV-NSPHL-471152  MFVFLVLLPLVSSQCVNLRTRTQLPPAYTNSFTRGVYYPDKVFRSS...   \n",
       "4      NV-NSPHL-471881  MFVFLVLLPLVSSQCVNLRTRTQLPPAYTNSFTRGVYYPDKVFRSS...   \n",
       "...                ...                                                ...   \n",
       "996   FL-CDC-LC0567256  MFVFLVLLPLVSSQCVNLITRTQSYTNSFTRGVYYPDKVFRSSVLH...   \n",
       "997   WI-CDC-LC0566831  MFVFLVLLPLVSSQCVNLITRTQSYTNSFTRGVYYPDKVFRSSVLH...   \n",
       "998   NY-CDC-LC0566830  MFVFLVLLPLVSSQCVNLITRTQSYTNSFTRGVYYPDKVFRSSVLH...   \n",
       "999   NY-CDC-LC0566835  MFVFLVLLPLVSSQCVNLITRTQSYTNSFTRGVYYPDKVFRSSVLH...   \n",
       "1000  NY-CDC-LC0566829  MFVFLVLLPLVSSQCVNLITRTQSYTNSFTRGVYYPDKVFRSSVLH...   \n",
       "\n",
       "              Clade  \n",
       "0       21J (Delta)  \n",
       "1       21I (Delta)  \n",
       "2       21J (Delta)  \n",
       "3       21J (Delta)  \n",
       "4       21J (Delta)  \n",
       "...             ...  \n",
       "996   21L (Omicron)  \n",
       "997   21L (Omicron)  \n",
       "998   21L (Omicron)  \n",
       "999   21L (Omicron)  \n",
       "1000  21L (Omicron)  \n",
       "\n",
       "[1001 rows x 3 columns]"
      ]
     },
     "execution_count": 36,
     "metadata": {},
     "output_type": "execute_result"
    }
   ],
   "source": [
    "combined_df"
   ]
  },
  {
   "cell_type": "code",
   "execution_count": 37,
   "id": "26ef7ad4-c290-4352-9776-84efc71d13d0",
   "metadata": {},
   "outputs": [],
   "source": [
    "combined_df.to_csv(\"data/genbank_spike_prot_clades.csv\", sep=\",\", index=None)"
   ]
  },
  {
   "cell_type": "code",
   "execution_count": 33,
   "id": "1c7a38aa-d2b1-404b-bb3c-73f2c8597d1c",
   "metadata": {},
   "outputs": [
    {
     "data": {
      "text/plain": [
       "'ON170529.1 |Severe acute respiratory syndrome coronavirus 2 isolate SARS-CoV-2/human/USA/NV-NSPHL-469808/2021, complete genome||Gumbleton,L.|2022-04-07T00:00:00Z||NV-NSPHL-469808|GenBank|2021-11-05|USA|USA'"
      ]
     },
     "execution_count": 33,
     "metadata": {},
     "output_type": "execute_result"
    }
   ],
   "source": []
  },
  {
   "cell_type": "code",
   "execution_count": null,
   "id": "86e77a1a-84a3-476e-80cb-ec7817a890f9",
   "metadata": {},
   "outputs": [],
   "source": [
    "NV-NSPHL-469808"
   ]
  }
 ],
 "metadata": {
  "kernelspec": {
   "display_name": "Python 3",
   "language": "python",
   "name": "python3"
  },
  "language_info": {
   "codemirror_mode": {
    "name": "ipython",
    "version": 3
   },
   "file_extension": ".py",
   "mimetype": "text/x-python",
   "name": "python",
   "nbconvert_exporter": "python",
   "pygments_lexer": "ipython3",
   "version": "3.9.15"
  }
 },
 "nbformat": 4,
 "nbformat_minor": 5
}
